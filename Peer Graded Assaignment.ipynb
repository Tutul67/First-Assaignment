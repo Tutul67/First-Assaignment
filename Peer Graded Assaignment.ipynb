{
 "cells": [
  {
   "cell_type": "markdown",
   "id": "49bbb6e4-d892-4b99-bedd-38990dbfd14e",
   "metadata": {},
   "source": [
    "# My Jupyter Notebook On Ibm watson Studio"
   ]
  },
  {
   "cell_type": "markdown",
   "id": "f70e80b6-a052-4c50-9fb9-810985144654",
   "metadata": {},
   "source": [
    "## __Md Mahmudur Rahman__\n",
    "#### *  __Current Occupation Refinery Process Field Operator In Kuwait National Petroleum Company.__"
   ]
  },
  {
   "cell_type": "markdown",
   "id": "b202b805-6e27-49c4-833c-0cd690cada8d",
   "metadata": {},
   "source": [
    "##### _The Reason To Love and To Put Effort In Data Science is It's outcome in return in the vast domain of Job Sectors Of Today's And Tomorrow's nourishing factors for job creation_"
   ]
  },
  {
   "cell_type": "markdown",
   "id": "8b4d78f6-2f6b-4a0f-b636-b5f733eb386c",
   "metadata": {},
   "source": [
    "### While loop"
   ]
  },
  {
   "cell_type": "code",
   "execution_count": 5,
   "id": "769db7fb-a781-4c6e-af6d-f2a7659b1ee8",
   "metadata": {},
   "outputs": [
    {
     "name": "stdout",
     "output_type": "stream",
     "text": [
      "1\n",
      "2\n",
      "3\n",
      "4\n",
      "5\n",
      "6\n",
      "7\n",
      "8\n",
      "9\n",
      "10\n"
     ]
    }
   ],
   "source": [
    "i = 1\n",
    "while i <= 10:\n",
    "    print (i)\n",
    "    i = i+1"
   ]
  },
  {
   "cell_type": "markdown",
   "id": "339d8a07-1154-44dd-9308-6595d5b0e1a6",
   "metadata": {},
   "source": [
    "##### Horizontal ru\n",
    "\n",
    "hype\n",
    "\n",
    "***\n",
    "\n",
    "Markdown | Less | Pretty\n",
    "--- | --- | ---\n",
    "*still* | `renders` | **nicely**\n",
    "1 | 2 | 3\n",
    "\n",
    "> blockquotes are very handy to emulate reply text.\n",
    "\n",
    "\n",
    "\n",
    "\n"
   ]
  }
 ],
 "metadata": {
  "kernelspec": {
   "display_name": "Python",
   "language": "python",
   "name": "conda-env-python-py"
  },
  "language_info": {
   "codemirror_mode": {
    "name": "ipython",
    "version": 3
   },
   "file_extension": ".py",
   "mimetype": "text/x-python",
   "name": "python",
   "nbconvert_exporter": "python",
   "pygments_lexer": "ipython3",
   "version": "3.7.12"
  }
 },
 "nbformat": 4,
 "nbformat_minor": 5
}
